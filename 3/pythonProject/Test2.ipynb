{
 "cells": [
  {
   "metadata": {
    "ExecuteTime": {
     "end_time": "2024-05-30T02:07:16.502746Z",
     "start_time": "2024-05-30T02:07:16.497292Z"
    }
   },
   "cell_type": "code",
   "source": [
    "import numpy as np\n",
    "from sklearn.model_selection import train_test_split\n",
    "\n",
    "dt = np.loadtxt('data/smt.txt', delimiter=',')\n",
    "\n",
    "X = dt[:, :2]\n",
    "\n",
    "y = dt[:, 2]\n",
    "\n",
    "X_train, X_test, y_train, y_test = train_test_split(X, y, test_size=0.33, random_state=42)"
   ],
   "id": "365431df792f951a",
   "outputs": [],
   "execution_count": 21
  },
  {
   "metadata": {
    "ExecuteTime": {
     "end_time": "2024-05-30T02:38:06.144896Z",
     "start_time": "2024-05-30T02:38:06.137850Z"
    }
   },
   "cell_type": "code",
   "source": [
    "from sklearn.tree import DecisionTreeClassifier\n",
    "\n",
    "\n",
    "class DfTree:\n",
    "    def __init__(self,\n",
    "                 splitter=\"best\",\n",
    "                 max_depth=None,\n",
    "                 min_samples_split=2,\n",
    "                 min_samples_leaf=1):\n",
    "        self.splitter = splitter\n",
    "        self.max_depth = max_depth\n",
    "        self.min_samples_split = min_samples_split\n",
    "        self.min_samples_leaf = min_samples_leaf\n",
    "\n",
    "    def predict_proba(self, X, check_input=True):\n",
    "        X = self._validate_X_predict(X, check_input)\n",
    "        proba = self.tree_.predict(X)\n",
    "\n",
    "        if self.n_outputs_ == 1:\n",
    "            proba = proba[:, :self.n_classes_]\n",
    "            normalizer = proba.sum(axis=1)[:, np.newaxis]\n",
    "            normalizer[normalizer == 0.0] = 1.0\n",
    "            proba /= normalizer\n",
    "\n",
    "            return proba\n",
    "\n",
    "        else:\n",
    "            all_proba = []\n",
    "\n",
    "            for k in range(self.n_outputs_):\n",
    "                proba_k = proba[:, k, :self.n_classes_[k]]\n",
    "                normalizer = proba_k.sum(axis=1)[:, np.newaxis]\n",
    "                normalizer[normalizer == 0.0] = 1.0\n",
    "                proba_k /= normalizer\n",
    "                all_proba.append(proba_k)\n",
    "\n",
    "            return all_proba\n",
    "\n",
    "    def fit(self, X, y):\n",
    "        self.model = DecisionTreeClassifier(splitter=self.splitter, max_depth=self.max_depth,\n",
    "                                            min_samples_split=self.min_samples_split,\n",
    "                                            min_samples_leaf=self.min_samples_leaf)\n",
    "        self.model.fit(X, y)\n",
    "\n",
    "    def pred(self, X):\n",
    "        return self.model.predict(X)\n"
   ],
   "id": "d107a5a5e2b1b96c",
   "outputs": [],
   "execution_count": 30
  },
  {
   "metadata": {
    "ExecuteTime": {
     "end_time": "2024-05-30T02:39:08.343912Z",
     "start_time": "2024-05-30T02:39:08.335891Z"
    }
   },
   "cell_type": "code",
   "source": [
    "from sklearn.metrics import accuracy_score\n",
    "\n",
    "model = DfTree(splitter=\"best\", max_depth=2)\n",
    "\n",
    "model.fit(X_train, y_train)\n",
    "\n",
    "pre = model.pred(X_test)\n",
    "\n",
    "acc = accuracy_score(y_test, pre)\n",
    "\n",
    "acc"
   ],
   "id": "ccb0f457fd29900d",
   "outputs": [
    {
     "data": {
      "text/plain": [
       "0.16666666666666666"
      ]
     },
     "execution_count": 31,
     "metadata": {},
     "output_type": "execute_result"
    }
   ],
   "execution_count": 31
  },
  {
   "metadata": {},
   "cell_type": "code",
   "outputs": [],
   "execution_count": null,
   "source": "",
   "id": "f059d0247248998"
  }
 ],
 "metadata": {
  "kernelspec": {
   "display_name": "Python 3",
   "language": "python",
   "name": "python3"
  },
  "language_info": {
   "codemirror_mode": {
    "name": "ipython",
    "version": 2
   },
   "file_extension": ".py",
   "mimetype": "text/x-python",
   "name": "python",
   "nbconvert_exporter": "python",
   "pygments_lexer": "ipython2",
   "version": "2.7.6"
  }
 },
 "nbformat": 4,
 "nbformat_minor": 5
}
