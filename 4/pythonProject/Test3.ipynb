{
 "cells": [
  {
   "cell_type": "code",
   "id": "initial_id",
   "metadata": {
    "collapsed": true,
    "ExecuteTime": {
     "end_time": "2024-06-04T01:58:27.827636Z",
     "start_time": "2024-06-04T01:58:27.567200Z"
    }
   },
   "source": [
    "import pandas as pd\n",
    "\n",
    "df = pd.read_csv('data/sample.csv')\n",
    "\n",
    "df = df.sample(frac=1, random_state=42)\n",
    "\n",
    "X = df.drop('is_act', axis=1)\n",
    "\n",
    "y = df['is_act']"
   ],
   "outputs": [],
   "execution_count": 38
  },
  {
   "metadata": {
    "ExecuteTime": {
     "end_time": "2024-06-04T01:58:55.857589Z",
     "start_time": "2024-06-04T01:58:52.917120Z"
    }
   },
   "cell_type": "code",
   "source": [
    "from sklearn.model_selection import train_test_split\n",
    "\n",
    "X_train, X_test, y_train, y_test = train_test_split(X, y, test_size=0.33, random_state=42)"
   ],
   "id": "b274a5af4c13e47a",
   "outputs": [],
   "execution_count": 39
  },
  {
   "metadata": {
    "ExecuteTime": {
     "end_time": "2024-06-04T02:00:02.587450Z",
     "start_time": "2024-06-04T02:00:01.675325Z"
    }
   },
   "cell_type": "code",
   "source": [
    "from sklearn.tree import DecisionTreeClassifier\n",
    "from sklearn.linear_model import LogisticRegression\n",
    "\n",
    "lr = LogisticRegression(fit_intercept=True, dual=False, C=1.0).fit(X_train, y_train)\n",
    "\n",
    "lr_pred = lr.predict(X_test)\n",
    "\n",
    "df = DecisionTreeClassifier(random_state=0, max_depth=6, min_samples_split=2).fit(X_train, y_train)\n",
    "\n",
    "df_pred = df.predict(X_test)"
   ],
   "id": "4cc1b5938752cd5a",
   "outputs": [
    {
     "name": "stderr",
     "output_type": "stream",
     "text": [
      "D:\\anaconda3\\Lib\\site-packages\\sklearn\\linear_model\\_logistic.py:458: ConvergenceWarning: lbfgs failed to converge (status=1):\n",
      "STOP: TOTAL NO. of ITERATIONS REACHED LIMIT.\n",
      "\n",
      "Increase the number of iterations (max_iter) or scale the data as shown in:\n",
      "    https://scikit-learn.org/stable/modules/preprocessing.html\n",
      "Please also refer to the documentation for alternative solver options:\n",
      "    https://scikit-learn.org/stable/modules/linear_model.html#logistic-regression\n",
      "  n_iter_i = _check_optimize_result(\n"
     ]
    }
   ],
   "execution_count": 41
  },
  {
   "metadata": {},
   "cell_type": "code",
   "outputs": [],
   "execution_count": null,
   "source": "",
   "id": "51a921f0fbf21d90"
  },
  {
   "metadata": {
    "ExecuteTime": {
     "end_time": "2024-06-04T02:00:58.483150Z",
     "start_time": "2024-06-04T02:00:27.457931Z"
    }
   },
   "cell_type": "code",
   "source": [
    "from sklearn.model_selection import KFold, GridSearchCV\n",
    "\n",
    "lr_param_grid = {'C': [0.001, 0.01, 0.1, 1, 10, 100, 1000], 'penalty': ['l1', 'l2'], 'solver': ['newton-cg', 'sag']}\n",
    "\n",
    "df_param_grid = {'max_depth': [3, 4, 5], 'min_samples_split': [2, 3, 4], 'splitter': ['best', 'random']}\n",
    "\n",
    "kf = KFold(n_splits=2, random_state=None, shuffle=False)\n",
    "\n",
    "lr_cv = GridSearchCV(estimator=lr, param_grid=lr_param_grid, cv=kf, scoring='neg_root_mean_squared_error')\n",
    "\n",
    "df_cv = GridSearchCV(estimator=df, param_grid=df_param_grid, cv=kf, scoring='neg_root_mean_squared_error')\n",
    "\n",
    "lr_cv.fit(X_train, y_train)\n",
    "\n",
    "df_cv.fit(X_train, y_train)\n",
    "\n",
    "best_lr_model = lr_cv.best_estimator_\n",
    "\n",
    "best_df_model = df_cv.best_estimator_\n",
    "\n",
    "best_lr_parm = lr_cv.best_params_\n",
    "\n",
    "best_df_parm = df_cv.best_params_"
   ],
   "id": "2dd0c347a3ecf199",
   "outputs": [
    {
     "name": "stderr",
     "output_type": "stream",
     "text": [
      "D:\\anaconda3\\Lib\\site-packages\\sklearn\\linear_model\\_sag.py:350: ConvergenceWarning: The max_iter was reached which means the coef_ did not converge\n",
      "  warnings.warn(\n",
      "D:\\anaconda3\\Lib\\site-packages\\sklearn\\linear_model\\_sag.py:350: ConvergenceWarning: The max_iter was reached which means the coef_ did not converge\n",
      "  warnings.warn(\n",
      "D:\\anaconda3\\Lib\\site-packages\\sklearn\\linear_model\\_sag.py:350: ConvergenceWarning: The max_iter was reached which means the coef_ did not converge\n",
      "  warnings.warn(\n",
      "D:\\anaconda3\\Lib\\site-packages\\sklearn\\linear_model\\_sag.py:350: ConvergenceWarning: The max_iter was reached which means the coef_ did not converge\n",
      "  warnings.warn(\n",
      "D:\\anaconda3\\Lib\\site-packages\\sklearn\\linear_model\\_sag.py:350: ConvergenceWarning: The max_iter was reached which means the coef_ did not converge\n",
      "  warnings.warn(\n",
      "D:\\anaconda3\\Lib\\site-packages\\sklearn\\linear_model\\_sag.py:350: ConvergenceWarning: The max_iter was reached which means the coef_ did not converge\n",
      "  warnings.warn(\n",
      "D:\\anaconda3\\Lib\\site-packages\\sklearn\\linear_model\\_sag.py:350: ConvergenceWarning: The max_iter was reached which means the coef_ did not converge\n",
      "  warnings.warn(\n",
      "D:\\anaconda3\\Lib\\site-packages\\sklearn\\linear_model\\_sag.py:350: ConvergenceWarning: The max_iter was reached which means the coef_ did not converge\n",
      "  warnings.warn(\n",
      "D:\\anaconda3\\Lib\\site-packages\\sklearn\\model_selection\\_validation.py:378: FitFailedWarning: \n",
      "28 fits failed out of a total of 56.\n",
      "The score on these train-test partitions for these parameters will be set to nan.\n",
      "If these failures are not expected, you can try to debug them by setting error_score='raise'.\n",
      "\n",
      "Below are more details about the failures:\n",
      "--------------------------------------------------------------------------------\n",
      "14 fits failed with the following error:\n",
      "Traceback (most recent call last):\n",
      "  File \"D:\\anaconda3\\Lib\\site-packages\\sklearn\\model_selection\\_validation.py\", line 686, in _fit_and_score\n",
      "    estimator.fit(X_train, y_train, **fit_params)\n",
      "  File \"D:\\anaconda3\\Lib\\site-packages\\sklearn\\linear_model\\_logistic.py\", line 1162, in fit\n",
      "    solver = _check_solver(self.solver, self.penalty, self.dual)\n",
      "             ^^^^^^^^^^^^^^^^^^^^^^^^^^^^^^^^^^^^^^^^^^^^^^^^^^^\n",
      "  File \"D:\\anaconda3\\Lib\\site-packages\\sklearn\\linear_model\\_logistic.py\", line 54, in _check_solver\n",
      "    raise ValueError(\n",
      "ValueError: Solver newton-cg supports only 'l2' or 'none' penalties, got l1 penalty.\n",
      "\n",
      "--------------------------------------------------------------------------------\n",
      "14 fits failed with the following error:\n",
      "Traceback (most recent call last):\n",
      "  File \"D:\\anaconda3\\Lib\\site-packages\\sklearn\\model_selection\\_validation.py\", line 686, in _fit_and_score\n",
      "    estimator.fit(X_train, y_train, **fit_params)\n",
      "  File \"D:\\anaconda3\\Lib\\site-packages\\sklearn\\linear_model\\_logistic.py\", line 1162, in fit\n",
      "    solver = _check_solver(self.solver, self.penalty, self.dual)\n",
      "             ^^^^^^^^^^^^^^^^^^^^^^^^^^^^^^^^^^^^^^^^^^^^^^^^^^^\n",
      "  File \"D:\\anaconda3\\Lib\\site-packages\\sklearn\\linear_model\\_logistic.py\", line 54, in _check_solver\n",
      "    raise ValueError(\n",
      "ValueError: Solver sag supports only 'l2' or 'none' penalties, got l1 penalty.\n",
      "\n",
      "  warnings.warn(some_fits_failed_message, FitFailedWarning)\n",
      "D:\\anaconda3\\Lib\\site-packages\\sklearn\\model_selection\\_search.py:952: UserWarning: One or more of the test scores are non-finite: [        nan         nan -0.40725618 -0.40725618         nan         nan\n",
      " -0.40100861 -0.40100861         nan         nan -0.40000315 -0.40000315\n",
      "         nan         nan -0.40446068 -0.40446068         nan         nan\n",
      " -0.40725935 -0.40716965         nan         nan -0.40761952 -0.40752918\n",
      "         nan         nan -0.40761952 -0.40752918]\n",
      "  warnings.warn(\n"
     ]
    }
   ],
   "execution_count": 42
  },
  {
   "metadata": {
    "ExecuteTime": {
     "end_time": "2024-06-04T02:01:34.451052Z",
     "start_time": "2024-06-04T02:01:34.441865Z"
    }
   },
   "cell_type": "code",
   "source": [
    "print(best_lr_model.coef_)\n",
    "\n",
    "print(best_df_model.feature_importances_)"
   ],
   "id": "2045de4dd3f8301a",
   "outputs": [
    {
     "name": "stdout",
     "output_type": "stream",
     "text": [
      "[[-1.15056949e-01 -1.40748788e-01  1.69081497e-01 -3.40681740e-02\n",
      "   1.14399194e-01 -1.04461889e-01 -3.56612567e-01  8.15061914e-02\n",
      "  -2.69079920e-02 -8.41244424e-02  6.88414970e-02 -5.23312534e-02\n",
      "  -1.02964424e-01 -1.25574893e-01 -1.22785723e-01  1.39050203e-01\n",
      "  -7.40418675e-02  2.74780939e-02  2.04497327e-02  1.08869975e-01\n",
      "   2.96134385e-01 -1.19992861e-01 -1.27268600e-02  5.23035499e-02\n",
      "   4.01541562e-01 -2.43132327e-01 -1.71078816e-01  5.67004368e-02\n",
      "  -1.39553636e-01  1.03152471e-01 -2.18579219e-02  4.53962169e-01\n",
      "   3.86025655e-02  1.24003311e-01 -1.25295341e-01  8.51293159e-02\n",
      "   6.70887627e-02 -6.75595715e-02  1.99701597e-01  3.50909474e-03\n",
      "  -1.98773616e-01  1.12289469e-01  1.95177433e-01 -2.79206388e-02\n",
      "  -9.48202757e-02  2.23446566e-01  6.01025152e-02 -1.97869446e-01\n",
      "  -3.68926347e-02  1.12182793e-01 -2.49062581e-02 -1.05335109e-01\n",
      "  -1.44034877e-01  3.12152332e-01 -3.70644446e-01  1.82070994e-01\n",
      "  -1.63249346e-01  1.52097037e-01 -3.61685950e-02  3.92091020e-02\n",
      "   1.08123990e-01 -6.16762751e-02  1.58153040e-01 -2.10190608e-02\n",
      "   1.03654111e-01  2.30620259e-02 -5.16850317e-03 -5.46926773e-02\n",
      "  -7.48709715e-02  1.33554964e-01  1.36168939e-01  4.00746424e-02\n",
      "  -6.65369003e-02  7.69459819e-02  2.37949978e-01 -4.07634070e-01\n",
      "   1.78029340e-01  4.01034552e-01  2.41086916e-01 -1.36690765e-01\n",
      "  -2.85978872e-01 -1.97202498e-01 -1.18334374e-02  5.69080819e-02\n",
      "   1.54085600e-01 -3.95225704e-01 -3.02221299e-01 -4.11037244e-02\n",
      "  -2.79128098e-02 -1.83797362e-01  2.74382924e-02  2.47785133e-02\n",
      "  -2.62590651e-01  1.12539203e-01  1.36026135e-01  2.50500344e-01\n",
      "   1.88561212e-01 -1.51225178e-01  5.02600445e-01  5.33986043e-01\n",
      "   3.74839325e-01 -1.50301155e-01 -2.92779906e-01  9.89425309e-02\n",
      "  -3.37569424e-02  6.01867374e-03  1.81898217e-02 -3.29229850e-02\n",
      "   1.96718229e-01  1.12301379e-01  3.26062463e-02  9.23261162e-02\n",
      "  -1.99591060e-01 -1.74297497e-01 -5.30102729e-02 -1.25211207e-01\n",
      "  -3.43128846e-02 -8.40440913e-02 -1.45468614e-01  3.72948702e-02\n",
      "  -4.93189082e-01  1.96481408e-01 -1.17846277e-01 -1.23033885e-01\n",
      "   5.17900050e-01 -2.09346437e-01 -1.34534481e-01 -1.88608731e-01\n",
      "   2.99848443e-01  6.58167654e-02 -1.15644808e-01 -2.82490479e-01\n",
      "   1.81749766e-01 -1.40210184e-01  1.50855673e-01  3.43870093e-02\n",
      "  -1.22025752e-01 -4.19507044e-01  3.32560118e-01 -1.61164780e-01\n",
      "   1.75184197e-01 -5.86868738e-03 -3.08726082e-02  6.15374056e-02\n",
      "  -9.98101292e-02  2.63414575e-02  7.78217389e-02  4.92892819e-02\n",
      "  -1.46868725e-01  2.24253141e-01  4.36447693e-02 -1.91984201e-01\n",
      "  -7.01665896e-02 -2.13008183e-01 -4.46225274e-02  2.71997234e-01\n",
      "   2.71997234e-01 -5.44280398e-01  3.13201849e-01 -2.12622217e-01\n",
      "  -1.91218597e-01 -9.35250154e-02  1.11731744e-01 -3.49720016e-02\n",
      "   3.09192707e-01  3.94392760e-02 -1.03292822e-01  1.41193784e-02\n",
      "   5.28431087e-03  6.38668311e-04 -2.82857651e-01  1.75419934e-01\n",
      "  -6.31308840e-02  7.80018990e-02 -6.35981788e-02  1.07111165e-01\n",
      "  -2.29153453e-01 -7.17129668e-02 -2.91880052e-02  2.66941927e-02\n",
      "  -3.03404507e-01 -1.67997250e-01  6.90990717e-02 -1.60693211e-01\n",
      "   8.59782822e-02 -9.88208587e-02 -1.80855459e-01 -2.28214671e-02\n",
      "  -2.02767467e-02  2.00608122e-01 -2.44571944e-01 -1.17200106e-01\n",
      "   9.51974587e-02 -1.87765328e-01 -4.52613882e-02  5.02346937e-01\n",
      "  -2.85930084e-01  4.01949985e-04 -9.60532389e-02 -1.87066827e-01\n",
      "   1.81686690e-01 -5.54491717e-02  2.50181079e-02  1.14309375e-01\n",
      "  -1.08279845e-02  9.18323700e-02  1.56957037e-01 -1.49414393e-02\n",
      "   8.38366706e-02  4.05794812e-02 -9.19882053e-02  2.08983996e-01\n",
      "  -2.21520711e-02  4.85314612e-02  2.00329636e-01  3.68721080e-03\n",
      "  -4.29360794e-02  8.06472019e-02  4.41743208e-02  4.79717409e-02\n",
      "   6.69865144e-03 -5.47764382e-02  2.72438576e-01 -5.07942656e-02\n",
      "   8.60262127e-02  1.05280977e-01 -3.65794237e-02  2.30690143e-02\n",
      "  -1.25477325e-01  4.22096921e-02  1.55687580e-01 -1.29632629e-01\n",
      "   6.15990580e-02  2.47495548e-01  9.94634258e-02  8.14112768e-02\n",
      "   5.51535827e-06  7.38999663e-02  1.43767933e-01  2.07743238e-01\n",
      "   1.80812908e-01 -8.15589743e-02  7.91397018e-02  1.45361007e-02\n",
      "  -2.92287158e-02  7.35942254e-02 -4.34693204e-02  3.46599420e-01\n",
      "  -1.83494074e-01 -3.16523495e-01  3.13580010e-01 -1.04334949e-01\n",
      "   7.87446613e-02 -2.43193276e-01  4.31331723e-02  3.53055120e-01\n",
      "  -1.74758699e-01 -5.78791852e-02  1.13094015e-01 -8.11087148e-02\n",
      "   3.74574541e-02 -5.79280457e-02 -5.29995754e-03 -9.65397086e-02\n",
      "  -4.61632547e-02 -7.28167381e-02  1.52576325e-01 -2.73934083e-01\n",
      "  -2.88288045e-01  1.35581069e-01 -9.83058534e-02  7.21519378e-02\n",
      "   1.63918405e-01 -3.47333964e-01  6.09687625e-02 -1.49531578e-02\n",
      "   3.59946517e-01 -1.82792418e-01 -5.89324944e-02  3.22285545e-01\n",
      "  -5.99982013e-02  1.31037583e-02  2.12728773e-01  2.04522142e-01\n",
      "  -3.07187240e-01  6.74862624e-02 -3.28429097e-01  2.16700239e-02\n",
      "   2.49010394e-01 -2.96985668e-01 -1.68348806e-02 -2.68861375e-01\n",
      "  -8.52892887e-02  1.16306310e-01  2.42058209e-01  2.37462953e-01\n",
      "   1.68760654e-01  9.98001050e-02  7.95339265e-03 -2.81577036e-02\n",
      "   3.03034190e-04 -5.35226622e-02  3.97824491e-02  5.15920796e-02\n",
      "   4.75858583e-02  3.85149522e-02 -2.89423690e-01  1.19729481e-02\n",
      "   1.21145459e-01  3.23507955e-02  4.85239645e-02 -2.24275842e-02\n",
      "   3.12325739e-02  1.24951568e-01  1.15687357e-01 -1.37732916e-01\n",
      "  -8.87138254e-02 -2.17777941e-02 -4.97451543e-02  8.20000800e-04\n",
      "  -1.00052792e-01  1.83047934e-01  2.31389806e-01  7.95930278e-02\n",
      "  -3.94799787e-01]]\n",
      "[0.         0.         0.         0.         0.         0.\n",
      " 0.         0.         0.         0.         0.         0.\n",
      " 0.         0.         0.         0.         0.         0.\n",
      " 0.         0.         0.         0.         0.         0.\n",
      " 0.         0.         0.         0.         0.         0.\n",
      " 0.         0.         0.         0.         0.         0.\n",
      " 0.         0.         0.         0.         0.         0.\n",
      " 0.         0.         0.         0.         0.         0.\n",
      " 0.         0.         0.         0.         0.         0.\n",
      " 0.         0.         0.         0.         0.         0.\n",
      " 0.         0.         0.         0.         0.04120888 0.01276578\n",
      " 0.         0.         0.         0.         0.         0.\n",
      " 0.         0.         0.         0.         0.         0.13872258\n",
      " 0.         0.         0.         0.         0.         0.\n",
      " 0.         0.         0.         0.         0.         0.\n",
      " 0.         0.         0.         0.         0.         0.\n",
      " 0.         0.         0.         0.70501672 0.         0.\n",
      " 0.         0.         0.         0.         0.         0.\n",
      " 0.         0.         0.         0.         0.         0.\n",
      " 0.         0.         0.         0.         0.         0.\n",
      " 0.         0.         0.         0.         0.         0.\n",
      " 0.         0.         0.03886351 0.         0.         0.\n",
      " 0.         0.         0.         0.         0.         0.\n",
      " 0.         0.         0.         0.         0.         0.\n",
      " 0.         0.         0.         0.         0.         0.\n",
      " 0.         0.         0.         0.         0.         0.\n",
      " 0.06342252 0.         0.         0.         0.         0.\n",
      " 0.         0.         0.         0.         0.         0.\n",
      " 0.         0.         0.         0.         0.         0.\n",
      " 0.         0.         0.         0.         0.         0.\n",
      " 0.         0.         0.         0.         0.         0.\n",
      " 0.         0.         0.         0.         0.         0.\n",
      " 0.         0.         0.         0.         0.         0.\n",
      " 0.         0.         0.         0.         0.         0.\n",
      " 0.         0.         0.         0.         0.         0.\n",
      " 0.         0.         0.         0.         0.         0.\n",
      " 0.         0.         0.         0.         0.         0.\n",
      " 0.         0.         0.         0.         0.         0.\n",
      " 0.         0.         0.         0.         0.         0.\n",
      " 0.         0.         0.         0.         0.         0.\n",
      " 0.         0.         0.         0.         0.         0.\n",
      " 0.         0.         0.         0.         0.         0.\n",
      " 0.         0.         0.         0.         0.         0.\n",
      " 0.         0.         0.         0.         0.         0.\n",
      " 0.         0.         0.         0.         0.         0.\n",
      " 0.         0.         0.         0.         0.         0.\n",
      " 0.         0.         0.         0.         0.         0.\n",
      " 0.         0.         0.         0.         0.         0.\n",
      " 0.         0.         0.         0.         0.         0.\n",
      " 0.         0.         0.         0.         0.         0.\n",
      " 0.         0.         0.         0.         0.         0.\n",
      " 0.         0.         0.         0.         0.         0.\n",
      " 0.         0.         0.         0.         0.         0.\n",
      " 0.         0.         0.         0.         0.         0.\n",
      " 0.        ]\n"
     ]
    }
   ],
   "execution_count": 43
  },
  {
   "metadata": {
    "ExecuteTime": {
     "end_time": "2024-06-04T02:03:24.286123Z",
     "start_time": "2024-06-04T02:03:24.260730Z"
    }
   },
   "cell_type": "code",
   "source": [
    "lr_pre = best_lr_model.predict(X_test)\n",
    "\n",
    "df_pre = best_df_model.predict(X_test)\n"
   ],
   "id": "14a22494c2ba9e8b",
   "outputs": [],
   "execution_count": 47
  },
  {
   "metadata": {
    "ExecuteTime": {
     "end_time": "2024-06-04T02:04:00.188806Z",
     "start_time": "2024-06-04T02:04:00.181923Z"
    }
   },
   "cell_type": "code",
   "source": [
    "from sklearn.metrics import accuracy_score\n",
    "\n",
    "acc1 = accuracy_score(y_test, lr_pre)\n",
    "\n",
    "acc2 = accuracy_score(y_test, df_pre)\n",
    "\n",
    "print(acc1, acc2)"
   ],
   "id": "9a0efe13015aac55",
   "outputs": [
    {
     "name": "stdout",
     "output_type": "stream",
     "text": [
      "0.8410881522223874 0.8439125910509886\n"
     ]
    }
   ],
   "execution_count": 48
  },
  {
   "metadata": {
    "ExecuteTime": {
     "end_time": "2024-06-04T02:06:52.971827Z",
     "start_time": "2024-06-04T02:06:52.858649Z"
    }
   },
   "cell_type": "code",
   "source": [
    "from sklearn.metrics import roc_curve\n",
    "\n",
    "pro = best_df_model.predict_proba(X_test)\n",
    "\n",
    "fpr, tpr, _ = roc_curve(y_test, pro[:, 1])\n",
    "\n",
    "import matplotlib.pyplot as plt\n",
    "\n",
    "plt.plot(fpr, tpr)\n",
    "\n",
    "plt.plot([0, 1])"
   ],
   "id": "1466243dded7766f",
   "outputs": [
    {
     "data": {
      "text/plain": [
       "[<matplotlib.lines.Line2D at 0x24e15293090>]"
      ]
     },
     "execution_count": 52,
     "metadata": {},
     "output_type": "execute_result"
    },
    {
     "data": {
      "text/plain": [
       "<Figure size 640x480 with 1 Axes>"
      ],
      "image/png": "[encoded data removed]"
     },
     "metadata": {},
     "output_type": "display_data"
    }
   ],
   "execution_count": 52
  },
  {
   "metadata": {
    "ExecuteTime": {
     "end_time": "2024-06-04T02:08:12.928069Z",
     "start_time": "2024-06-04T02:08:12.824582Z"
    }
   },
   "cell_type": "code",
   "source": [
    "from sklearn.metrics import precision_recall_curve\n",
    "\n",
    "precision, recall, _ = precision_recall_curve(y_test, pro[:, 1])\n",
    "\n",
    "plt.plot(precision, recall)\n"
   ],
   "id": "7de724024bd56400",
   "outputs": [
    {
     "data": {
      "text/plain": [
       "[<matplotlib.lines.Line2D at 0x24e153b2010>]"
      ]
     },
     "execution_count": 54,
     "metadata": {},
     "output_type": "execute_result"
    },
    {
     "data": {
      "text/plain": [
       "<Figure size 640x480 with 1 Axes>"
      ],
      "image/png": "[encoded data removed]"
     },
     "metadata": {},
     "output_type": "display_data"
    }
   ],
   "execution_count": 54
  },
  {
   "metadata": {
    "ExecuteTime": {
     "end_time": "2024-06-04T02:08:34.514023Z",
     "start_time": "2024-06-04T02:08:34.507006Z"
    }
   },
   "cell_type": "code",
   "source": [
    "from joblib import dump\n",
    "\n",
    "dump(best_df_model, 'df_model.joblib_3')"
   ],
   "id": "6a1d7a6e8b19f72b",
   "outputs": [
    {
     "data": {
      "text/plain": [
       "['df_model.joblib_3']"
      ]
     },
     "execution_count": 55,
     "metadata": {},
     "output_type": "execute_result"
    }
   ],
   "execution_count": 55
  },
  {
   "metadata": {},
   "cell_type": "code",
   "outputs": [],
   "execution_count": null,
   "source": "",
   "id": "c817e331607f48c5"
  }
 ],
 "metadata": {
  "kernelspec": {
   "display_name": "Python 3",
   "language": "python",
   "name": "python3"
  },
  "language_info": {
   "codemirror_mode": {
    "name": "ipython",
    "version": 2
   },
   "file_extension": ".py",
   "mimetype": "text/x-python",
   "name": "python",
   "nbconvert_exporter": "python",
   "pygments_lexer": "ipython2",
   "version": "2.7.6"
  }
 },
 "nbformat": 4,
 "nbformat_minor": 5
}
