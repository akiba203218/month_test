{
 "cells": [
  {
   "cell_type": "code",
   "id": "initial_id",
   "metadata": {
    "collapsed": true,
    "ExecuteTime": {
     "end_time": "2024-06-04T02:45:27.094061Z",
     "start_time": "2024-06-04T02:45:26.752970Z"
    }
   },
   "source": [
    "from surprise import KNNBasic\n",
    "\n",
    "\n",
    "def user_base_function(user_id, trainset, testset, k=10):\n",
    "    knn = KNNBasic(sim_options={\"user_based\": True})\n",
    "\n",
    "    knn.fit(trainset)\n",
    "\n",
    "    pre = knn.test(testset)\n",
    "\n",
    "    user_pre = [pred for pred in pre if pred.uid == user_id]\n",
    "\n",
    "    user_pre.sort(key=lambda x: x.est, reverse=True)\n",
    "\n",
    "    return [pred.iid for pred in user_pre[:k]], pre\n",
    "\n",
    "\n",
    "def item_base_function(item_id, trainset, testset, k=10):\n",
    "    knn = KNNBasic(sim_options={\"user_based\": False})\n",
    "\n",
    "    knn.fit(trainset)\n",
    "\n",
    "    pre = knn.test(testset)\n",
    "\n",
    "    item_pre = [pred for pred in pre if pred.iid == item_id]\n",
    "\n",
    "    item_pre.sort(key=lambda x: x.est, reverse=True)\n",
    "\n",
    "    return [pred.uid for pred in item_pre[:k]], pre"
   ],
   "outputs": [],
   "execution_count": 1
  },
  {
   "metadata": {
    "ExecuteTime": {
     "end_time": "2024-06-04T02:47:56.160547Z",
     "start_time": "2024-06-04T02:47:56.147429Z"
    }
   },
   "cell_type": "code",
   "source": [
    "import pandas as pd\n",
    "\n",
    "df = pd.read_csv('data/sample_movielens_ratings.txt', sep='::', header=None,\n",
    "                 names=['user_id', 'item_id', 'rating', 'timestamp'])\n",
    "\n",
    "from surprise import Dataset, Reader\n",
    "\n",
    "reader = Reader(rating_scale=(1, 5))\n",
    "\n",
    "dt = Dataset.load_from_df(df.drop('timestamp', axis=1), reader)\n"
   ],
   "id": "f8b3db4f8da54be5",
   "outputs": [
    {
     "name": "stderr",
     "output_type": "stream",
     "text": [
      "C:\\Users\\n2753\\AppData\\Local\\Temp\\ipykernel_32096\\1789700178.py:3: ParserWarning: Falling back to the 'python' engine because the 'c' engine does not support regex separators (separators > 1 char and different from '\\s+' are interpreted as regex); you can avoid this warning by specifying engine='python'.\n",
      "  df = pd.read_csv('data/sample_movielens_ratings.txt', sep='::', header=None,\n"
     ]
    }
   ],
   "execution_count": 7
  },
  {
   "metadata": {
    "ExecuteTime": {
     "end_time": "2024-06-04T02:48:59.948193Z",
     "start_time": "2024-06-04T02:48:59.942943Z"
    }
   },
   "cell_type": "code",
   "source": [
    "from surprise.model_selection import train_test_split\n",
    "\n",
    "trainset, testset = train_test_split(dt, test_size=0.33, random_state=42)"
   ],
   "id": "79608226a6db08df",
   "outputs": [],
   "execution_count": 8
  },
  {
   "metadata": {
    "ExecuteTime": {
     "end_time": "2024-06-04T02:50:17.697804Z",
     "start_time": "2024-06-04T02:50:17.675867Z"
    }
   },
   "cell_type": "code",
   "source": [
    "knn = KNNBasic(sim_options={\"user_based\": False})\n",
    "\n",
    "knn.fit(trainset)\n",
    "\n",
    "pre = knn.test(testset)\n",
    "\n",
    "df_pre = pd.DataFrame(pre)\n",
    "\n",
    "rs = df_pre[['uid', 'iid', 'est']]\n",
    "\n",
    "rs"
   ],
   "id": "d8770556140d422e",
   "outputs": [
    {
     "name": "stdout",
     "output_type": "stream",
     "text": [
      "Computing the msd similarity matrix...\n",
      "Done computing similarity matrix.\n"
     ]
    },
    {
     "data": {
      "text/plain": [
       "     uid  iid       est\n",
       "0      5   36  1.796682\n",
       "1      1   60  1.385400\n",
       "2     18   11  1.948277\n",
       "3      4   67  1.649522\n",
       "4      8   79  2.319807\n",
       "..   ...  ...       ...\n",
       "491   22   48  1.964995\n",
       "492   25   67  1.509304\n",
       "493   16   98  2.056475\n",
       "494   29    9  1.796343\n",
       "495   22   40  2.110424\n",
       "\n",
       "[496 rows x 3 columns]"
      ],
      "text/html": [
       "<div>\n",
       "<style scoped>\n",
       "    .dataframe tbody tr th:only-of-type {\n",
       "        vertical-align: middle;\n",
       "    }\n",
       "\n",
       "    .dataframe tbody tr th {\n",
       "        vertical-align: top;\n",
       "    }\n",
       "\n",
       "    .dataframe thead th {\n",
       "        text-align: right;\n",
       "    }\n",
       "</style>\n",
       "<table border=\"1\" class=\"dataframe\">\n",
       "  <thead>\n",
       "    <tr style=\"text-align: right;\">\n",
       "      <th></th>\n",
       "      <th>uid</th>\n",
       "      <th>iid</th>\n",
       "      <th>est</th>\n",
       "    </tr>\n",
       "  </thead>\n",
       "  <tbody>\n",
       "    <tr>\n",
       "      <th>0</th>\n",
       "      <td>5</td>\n",
       "      <td>36</td>\n",
       "      <td>1.796682</td>\n",
       "    </tr>\n",
       "    <tr>\n",
       "      <th>1</th>\n",
       "      <td>1</td>\n",
       "      <td>60</td>\n",
       "      <td>1.385400</td>\n",
       "    </tr>\n",
       "    <tr>\n",
       "      <th>2</th>\n",
       "      <td>18</td>\n",
       "      <td>11</td>\n",
       "      <td>1.948277</td>\n",
       "    </tr>\n",
       "    <tr>\n",
       "      <th>3</th>\n",
       "      <td>4</td>\n",
       "      <td>67</td>\n",
       "      <td>1.649522</td>\n",
       "    </tr>\n",
       "    <tr>\n",
       "      <th>4</th>\n",
       "      <td>8</td>\n",
       "      <td>79</td>\n",
       "      <td>2.319807</td>\n",
       "    </tr>\n",
       "    <tr>\n",
       "      <th>...</th>\n",
       "      <td>...</td>\n",
       "      <td>...</td>\n",
       "      <td>...</td>\n",
       "    </tr>\n",
       "    <tr>\n",
       "      <th>491</th>\n",
       "      <td>22</td>\n",
       "      <td>48</td>\n",
       "      <td>1.964995</td>\n",
       "    </tr>\n",
       "    <tr>\n",
       "      <th>492</th>\n",
       "      <td>25</td>\n",
       "      <td>67</td>\n",
       "      <td>1.509304</td>\n",
       "    </tr>\n",
       "    <tr>\n",
       "      <th>493</th>\n",
       "      <td>16</td>\n",
       "      <td>98</td>\n",
       "      <td>2.056475</td>\n",
       "    </tr>\n",
       "    <tr>\n",
       "      <th>494</th>\n",
       "      <td>29</td>\n",
       "      <td>9</td>\n",
       "      <td>1.796343</td>\n",
       "    </tr>\n",
       "    <tr>\n",
       "      <th>495</th>\n",
       "      <td>22</td>\n",
       "      <td>40</td>\n",
       "      <td>2.110424</td>\n",
       "    </tr>\n",
       "  </tbody>\n",
       "</table>\n",
       "<p>496 rows × 3 columns</p>\n",
       "</div>"
      ]
     },
     "execution_count": 10,
     "metadata": {},
     "output_type": "execute_result"
    }
   ],
   "execution_count": 10
  },
  {
   "metadata": {
    "ExecuteTime": {
     "end_time": "2024-06-04T02:51:22.423261Z",
     "start_time": "2024-06-04T02:51:22.402685Z"
    }
   },
   "cell_type": "code",
   "source": [
    "top10_user, user_pre = user_base_function(0, trainset, testset, k=10)\n",
    "\n",
    "top10_item, item_pre = item_base_function(0, trainset, testset, k=10)"
   ],
   "id": "bf15f23514055ff8",
   "outputs": [
    {
     "name": "stdout",
     "output_type": "stream",
     "text": [
      "Computing the msd similarity matrix...\n",
      "Done computing similarity matrix.\n",
      "Computing the msd similarity matrix...\n",
      "Done computing similarity matrix.\n"
     ]
    }
   ],
   "execution_count": 11
  },
  {
   "metadata": {
    "ExecuteTime": {
     "end_time": "2024-06-04T02:52:57.416586Z",
     "start_time": "2024-06-04T02:52:57.402544Z"
    }
   },
   "cell_type": "code",
   "source": [
    "user_df = pd.DataFrame(user_pre)\n",
    "\n",
    "item_df = pd.DataFrame(item_pre)\n",
    "\n",
    "user_df[user_df['uid'] == 0]"
   ],
   "id": "6151088ab543ddbb",
   "outputs": [
    {
     "data": {
      "text/plain": [
       "     uid  iid  r_ui       est                                    details\n",
       "8      0   37   1.0  1.429768  {'actual_k': 12, 'was_impossible': False}\n",
       "23     0   72   1.0  2.178660   {'actual_k': 8, 'was_impossible': False}\n",
       "51     0   26   3.0  1.166786  {'actual_k': 10, 'was_impossible': False}\n",
       "73     0   46   1.0  1.667228   {'actual_k': 3, 'was_impossible': False}\n",
       "117    0   96   1.0  1.802709  {'actual_k': 10, 'was_impossible': False}\n",
       "123    0   11   1.0  1.226984   {'actual_k': 6, 'was_impossible': False}\n",
       "150    0   41   2.0  1.893677   {'actual_k': 7, 'was_impossible': False}\n",
       "152    0   71   1.0  1.177250  {'actual_k': 10, 'was_impossible': False}\n",
       "172    0   34   1.0  1.871492   {'actual_k': 6, 'was_impossible': False}\n",
       "194    0   31   1.0  1.781870  {'actual_k': 12, 'was_impossible': False}\n",
       "206    0   51   1.0  2.027279  {'actual_k': 15, 'was_impossible': False}\n",
       "210    0   77   2.0  2.722508   {'actual_k': 7, 'was_impossible': False}\n",
       "248    0   19   1.0  2.038652   {'actual_k': 7, 'was_impossible': False}\n",
       "304    0    3   1.0  1.427257   {'actual_k': 8, 'was_impossible': False}\n",
       "380    0   87   1.0  2.142714   {'actual_k': 9, 'was_impossible': False}\n",
       "395    0   29   1.0  2.334590   {'actual_k': 9, 'was_impossible': False}\n",
       "429    0   69   1.0  1.914503  {'actual_k': 11, 'was_impossible': False}\n",
       "441    0   28   1.0  2.631775   {'actual_k': 6, 'was_impossible': False}\n",
       "448    0   44   1.0  2.031703   {'actual_k': 8, 'was_impossible': False}\n",
       "466    0   45   2.0  1.283513  {'actual_k': 12, 'was_impossible': False}"
      ],
      "text/html": [
       "<div>\n",
       "<style scoped>\n",
       "    .dataframe tbody tr th:only-of-type {\n",
       "        vertical-align: middle;\n",
       "    }\n",
       "\n",
       "    .dataframe tbody tr th {\n",
       "        vertical-align: top;\n",
       "    }\n",
       "\n",
       "    .dataframe thead th {\n",
       "        text-align: right;\n",
       "    }\n",
       "</style>\n",
       "<table border=\"1\" class=\"dataframe\">\n",
       "  <thead>\n",
       "    <tr style=\"text-align: right;\">\n",
       "      <th></th>\n",
       "      <th>uid</th>\n",
       "      <th>iid</th>\n",
       "      <th>r_ui</th>\n",
       "      <th>est</th>\n",
       "      <th>details</th>\n",
       "    </tr>\n",
       "  </thead>\n",
       "  <tbody>\n",
       "    <tr>\n",
       "      <th>8</th>\n",
       "      <td>0</td>\n",
       "      <td>37</td>\n",
       "      <td>1.0</td>\n",
       "      <td>1.429768</td>\n",
       "      <td>{'actual_k': 12, 'was_impossible': False}</td>\n",
       "    </tr>\n",
       "    <tr>\n",
       "      <th>23</th>\n",
       "      <td>0</td>\n",
       "      <td>72</td>\n",
       "      <td>1.0</td>\n",
       "      <td>2.178660</td>\n",
       "      <td>{'actual_k': 8, 'was_impossible': False}</td>\n",
       "    </tr>\n",
       "    <tr>\n",
       "      <th>51</th>\n",
       "      <td>0</td>\n",
       "      <td>26</td>\n",
       "      <td>3.0</td>\n",
       "      <td>1.166786</td>\n",
       "      <td>{'actual_k': 10, 'was_impossible': False}</td>\n",
       "    </tr>\n",
       "    <tr>\n",
       "      <th>73</th>\n",
       "      <td>0</td>\n",
       "      <td>46</td>\n",
       "      <td>1.0</td>\n",
       "      <td>1.667228</td>\n",
       "      <td>{'actual_k': 3, 'was_impossible': False}</td>\n",
       "    </tr>\n",
       "    <tr>\n",
       "      <th>117</th>\n",
       "      <td>0</td>\n",
       "      <td>96</td>\n",
       "      <td>1.0</td>\n",
       "      <td>1.802709</td>\n",
       "      <td>{'actual_k': 10, 'was_impossible': False}</td>\n",
       "    </tr>\n",
       "    <tr>\n",
       "      <th>123</th>\n",
       "      <td>0</td>\n",
       "      <td>11</td>\n",
       "      <td>1.0</td>\n",
       "      <td>1.226984</td>\n",
       "      <td>{'actual_k': 6, 'was_impossible': False}</td>\n",
       "    </tr>\n",
       "    <tr>\n",
       "      <th>150</th>\n",
       "      <td>0</td>\n",
       "      <td>41</td>\n",
       "      <td>2.0</td>\n",
       "      <td>1.893677</td>\n",
       "      <td>{'actual_k': 7, 'was_impossible': False}</td>\n",
       "    </tr>\n",
       "    <tr>\n",
       "      <th>152</th>\n",
       "      <td>0</td>\n",
       "      <td>71</td>\n",
       "      <td>1.0</td>\n",
       "      <td>1.177250</td>\n",
       "      <td>{'actual_k': 10, 'was_impossible': False}</td>\n",
       "    </tr>\n",
       "    <tr>\n",
       "      <th>172</th>\n",
       "      <td>0</td>\n",
       "      <td>34</td>\n",
       "      <td>1.0</td>\n",
       "      <td>1.871492</td>\n",
       "      <td>{'actual_k': 6, 'was_impossible': False}</td>\n",
       "    </tr>\n",
       "    <tr>\n",
       "      <th>194</th>\n",
       "      <td>0</td>\n",
       "      <td>31</td>\n",
       "      <td>1.0</td>\n",
       "      <td>1.781870</td>\n",
       "      <td>{'actual_k': 12, 'was_impossible': False}</td>\n",
       "    </tr>\n",
       "    <tr>\n",
       "      <th>206</th>\n",
       "      <td>0</td>\n",
       "      <td>51</td>\n",
       "      <td>1.0</td>\n",
       "      <td>2.027279</td>\n",
       "      <td>{'actual_k': 15, 'was_impossible': False}</td>\n",
       "    </tr>\n",
       "    <tr>\n",
       "      <th>210</th>\n",
       "      <td>0</td>\n",
       "      <td>77</td>\n",
       "      <td>2.0</td>\n",
       "      <td>2.722508</td>\n",
       "      <td>{'actual_k': 7, 'was_impossible': False}</td>\n",
       "    </tr>\n",
       "    <tr>\n",
       "      <th>248</th>\n",
       "      <td>0</td>\n",
       "      <td>19</td>\n",
       "      <td>1.0</td>\n",
       "      <td>2.038652</td>\n",
       "      <td>{'actual_k': 7, 'was_impossible': False}</td>\n",
       "    </tr>\n",
       "    <tr>\n",
       "      <th>304</th>\n",
       "      <td>0</td>\n",
       "      <td>3</td>\n",
       "      <td>1.0</td>\n",
       "      <td>1.427257</td>\n",
       "      <td>{'actual_k': 8, 'was_impossible': False}</td>\n",
       "    </tr>\n",
       "    <tr>\n",
       "      <th>380</th>\n",
       "      <td>0</td>\n",
       "      <td>87</td>\n",
       "      <td>1.0</td>\n",
       "      <td>2.142714</td>\n",
       "      <td>{'actual_k': 9, 'was_impossible': False}</td>\n",
       "    </tr>\n",
       "    <tr>\n",
       "      <th>395</th>\n",
       "      <td>0</td>\n",
       "      <td>29</td>\n",
       "      <td>1.0</td>\n",
       "      <td>2.334590</td>\n",
       "      <td>{'actual_k': 9, 'was_impossible': False}</td>\n",
       "    </tr>\n",
       "    <tr>\n",
       "      <th>429</th>\n",
       "      <td>0</td>\n",
       "      <td>69</td>\n",
       "      <td>1.0</td>\n",
       "      <td>1.914503</td>\n",
       "      <td>{'actual_k': 11, 'was_impossible': False}</td>\n",
       "    </tr>\n",
       "    <tr>\n",
       "      <th>441</th>\n",
       "      <td>0</td>\n",
       "      <td>28</td>\n",
       "      <td>1.0</td>\n",
       "      <td>2.631775</td>\n",
       "      <td>{'actual_k': 6, 'was_impossible': False}</td>\n",
       "    </tr>\n",
       "    <tr>\n",
       "      <th>448</th>\n",
       "      <td>0</td>\n",
       "      <td>44</td>\n",
       "      <td>1.0</td>\n",
       "      <td>2.031703</td>\n",
       "      <td>{'actual_k': 8, 'was_impossible': False}</td>\n",
       "    </tr>\n",
       "    <tr>\n",
       "      <th>466</th>\n",
       "      <td>0</td>\n",
       "      <td>45</td>\n",
       "      <td>2.0</td>\n",
       "      <td>1.283513</td>\n",
       "      <td>{'actual_k': 12, 'was_impossible': False}</td>\n",
       "    </tr>\n",
       "  </tbody>\n",
       "</table>\n",
       "</div>"
      ]
     },
     "execution_count": 14,
     "metadata": {},
     "output_type": "execute_result"
    }
   ],
   "execution_count": 14
  },
  {
   "metadata": {
    "ExecuteTime": {
     "end_time": "2024-06-04T02:53:50.760015Z",
     "start_time": "2024-06-04T02:53:50.748454Z"
    }
   },
   "cell_type": "code",
   "source": "item_df[item_df['iid'] == 0]",
   "id": "3db573a9ac00843",
   "outputs": [
    {
     "data": {
      "text/plain": [
       "     uid  iid  r_ui       est                                    details\n",
       "156    8    0   1.0  2.058788  {'actual_k': 38, 'was_impossible': False}\n",
       "234   10    0   3.0  1.602204  {'actual_k': 31, 'was_impossible': False}\n",
       "366   19    0   1.0  1.278661  {'actual_k': 32, 'was_impossible': False}\n",
       "374   21    0   1.0  1.729842  {'actual_k': 29, 'was_impossible': False}\n",
       "427   22    0   1.0  1.935781  {'actual_k': 35, 'was_impossible': False}\n",
       "477   15    0   1.0  1.802583  {'actual_k': 31, 'was_impossible': False}"
      ],
      "text/html": [
       "<div>\n",
       "<style scoped>\n",
       "    .dataframe tbody tr th:only-of-type {\n",
       "        vertical-align: middle;\n",
       "    }\n",
       "\n",
       "    .dataframe tbody tr th {\n",
       "        vertical-align: top;\n",
       "    }\n",
       "\n",
       "    .dataframe thead th {\n",
       "        text-align: right;\n",
       "    }\n",
       "</style>\n",
       "<table border=\"1\" class=\"dataframe\">\n",
       "  <thead>\n",
       "    <tr style=\"text-align: right;\">\n",
       "      <th></th>\n",
       "      <th>uid</th>\n",
       "      <th>iid</th>\n",
       "      <th>r_ui</th>\n",
       "      <th>est</th>\n",
       "      <th>details</th>\n",
       "    </tr>\n",
       "  </thead>\n",
       "  <tbody>\n",
       "    <tr>\n",
       "      <th>156</th>\n",
       "      <td>8</td>\n",
       "      <td>0</td>\n",
       "      <td>1.0</td>\n",
       "      <td>2.058788</td>\n",
       "      <td>{'actual_k': 38, 'was_impossible': False}</td>\n",
       "    </tr>\n",
       "    <tr>\n",
       "      <th>234</th>\n",
       "      <td>10</td>\n",
       "      <td>0</td>\n",
       "      <td>3.0</td>\n",
       "      <td>1.602204</td>\n",
       "      <td>{'actual_k': 31, 'was_impossible': False}</td>\n",
       "    </tr>\n",
       "    <tr>\n",
       "      <th>366</th>\n",
       "      <td>19</td>\n",
       "      <td>0</td>\n",
       "      <td>1.0</td>\n",
       "      <td>1.278661</td>\n",
       "      <td>{'actual_k': 32, 'was_impossible': False}</td>\n",
       "    </tr>\n",
       "    <tr>\n",
       "      <th>374</th>\n",
       "      <td>21</td>\n",
       "      <td>0</td>\n",
       "      <td>1.0</td>\n",
       "      <td>1.729842</td>\n",
       "      <td>{'actual_k': 29, 'was_impossible': False}</td>\n",
       "    </tr>\n",
       "    <tr>\n",
       "      <th>427</th>\n",
       "      <td>22</td>\n",
       "      <td>0</td>\n",
       "      <td>1.0</td>\n",
       "      <td>1.935781</td>\n",
       "      <td>{'actual_k': 35, 'was_impossible': False}</td>\n",
       "    </tr>\n",
       "    <tr>\n",
       "      <th>477</th>\n",
       "      <td>15</td>\n",
       "      <td>0</td>\n",
       "      <td>1.0</td>\n",
       "      <td>1.802583</td>\n",
       "      <td>{'actual_k': 31, 'was_impossible': False}</td>\n",
       "    </tr>\n",
       "  </tbody>\n",
       "</table>\n",
       "</div>"
      ]
     },
     "execution_count": 15,
     "metadata": {},
     "output_type": "execute_result"
    }
   ],
   "execution_count": 15
  },
  {
   "metadata": {
    "ExecuteTime": {
     "end_time": "2024-06-04T02:54:05.271107Z",
     "start_time": "2024-06-04T02:54:05.267353Z"
    }
   },
   "cell_type": "code",
   "source": [
    "print(top10_user)\n",
    "\n",
    "print(top10_item)"
   ],
   "id": "e4b428ddf8e4c25e",
   "outputs": [
    {
     "name": "stdout",
     "output_type": "stream",
     "text": [
      "[77, 28, 29, 72, 87, 19, 44, 51, 69, 41]\n",
      "[8, 22, 15, 21, 10, 19]\n"
     ]
    }
   ],
   "execution_count": 16
  },
  {
   "metadata": {
    "ExecuteTime": {
     "end_time": "2024-06-04T02:54:52.595750Z",
     "start_time": "2024-06-04T02:54:52.589856Z"
    }
   },
   "cell_type": "code",
   "source": [
    "from surprise import accuracy\n",
    "\n",
    "accuracy.rmse(pre)"
   ],
   "id": "4795fa3589896ae4",
   "outputs": [
    {
     "name": "stdout",
     "output_type": "stream",
     "text": [
      "RMSE: 1.1265\n"
     ]
    },
    {
     "data": {
      "text/plain": [
       "1.126546319577955"
      ]
     },
     "execution_count": 17,
     "metadata": {},
     "output_type": "execute_result"
    }
   ],
   "execution_count": 17
  },
  {
   "metadata": {
    "ExecuteTime": {
     "end_time": "2024-06-04T03:03:03.170470Z",
     "start_time": "2024-06-04T03:03:03.162286Z"
    }
   },
   "cell_type": "code",
   "source": [
    "from sklearn.datasets import load_iris\n",
    "\n",
    "import numpy as np\n",
    "\n",
    "X, y = load_iris(return_X_y=True)\n",
    "\n",
    "\n",
    "def sigmoid(z):\n",
    "    return 1 / (1 + np.exp(-z))\n",
    "\n",
    "\n",
    "def costFunction(X, y, theta):\n",
    "    A = sigmoid(X @ theta)\n",
    "\n",
    "    first = y * np.log(A)\n",
    "    second = (1 - y) * np.log(1 - A)\n",
    "\n",
    "    return -np.sum(first + second) / len(X)\n",
    "\n",
    "\n",
    "def gradientDescent(X, y, theta, iters, alpha):\n",
    "    m = len(X)\n",
    "    costs = np.zeros(iters)\n",
    "\n",
    "    for i in range(iters):\n",
    "        A = sigmoid(X @ theta)\n",
    "        theta = theta - (alpha / m) * X.T @ (A - y)\n",
    "        cost = costFunction(X, y, theta)\n",
    "        costs[i] = cost\n",
    "\n",
    "    return costs, theta\n",
    "\n",
    "\n"
   ],
   "id": "8966323ffe578150",
   "outputs": [],
   "execution_count": 24
  },
  {
   "metadata": {
    "ExecuteTime": {
     "end_time": "2024-06-04T03:03:03.512424Z",
     "start_time": "2024-06-04T03:03:03.503517Z"
    }
   },
   "cell_type": "code",
   "source": [
    "theta = np.zeros(X.shape[1])\n",
    "\n",
    "iters = 100\n",
    "\n",
    "alpha = 0.01\n",
    "\n",
    "costs, theta = gradientDescent(X, y, theta, iters, alpha)"
   ],
   "id": "e435accf28e2bc58",
   "outputs": [],
   "execution_count": 25
  },
  {
   "metadata": {
    "ExecuteTime": {
     "end_time": "2024-06-04T03:03:11.665574Z",
     "start_time": "2024-06-04T03:03:11.659686Z"
    }
   },
   "cell_type": "code",
   "source": [
    "pre = sigmoid(X @ theta)\n",
    "\n",
    "df = pd.DataFrame()\n",
    "\n",
    "df['测试值'] = pre.astype(int)\n",
    "\n",
    "df['实际值'] = y"
   ],
   "id": "4ccf1fdca33809df",
   "outputs": [],
   "execution_count": 28
  },
  {
   "metadata": {
    "ExecuteTime": {
     "end_time": "2024-06-04T03:03:12.263954Z",
     "start_time": "2024-06-04T03:03:12.256859Z"
    }
   },
   "cell_type": "code",
   "source": "df",
   "id": "e2fb55250afd16a1",
   "outputs": [
    {
     "data": {
      "text/plain": [
       "     测试值  实际值\n",
       "0      0    0\n",
       "1      0    0\n",
       "2      0    0\n",
       "3      0    0\n",
       "4      0    0\n",
       "..   ...  ...\n",
       "145    0    2\n",
       "146    0    2\n",
       "147    0    2\n",
       "148    0    2\n",
       "149    0    2\n",
       "\n",
       "[150 rows x 2 columns]"
      ],
      "text/html": [
       "<div>\n",
       "<style scoped>\n",
       "    .dataframe tbody tr th:only-of-type {\n",
       "        vertical-align: middle;\n",
       "    }\n",
       "\n",
       "    .dataframe tbody tr th {\n",
       "        vertical-align: top;\n",
       "    }\n",
       "\n",
       "    .dataframe thead th {\n",
       "        text-align: right;\n",
       "    }\n",
       "</style>\n",
       "<table border=\"1\" class=\"dataframe\">\n",
       "  <thead>\n",
       "    <tr style=\"text-align: right;\">\n",
       "      <th></th>\n",
       "      <th>测试值</th>\n",
       "      <th>实际值</th>\n",
       "    </tr>\n",
       "  </thead>\n",
       "  <tbody>\n",
       "    <tr>\n",
       "      <th>0</th>\n",
       "      <td>0</td>\n",
       "      <td>0</td>\n",
       "    </tr>\n",
       "    <tr>\n",
       "      <th>1</th>\n",
       "      <td>0</td>\n",
       "      <td>0</td>\n",
       "    </tr>\n",
       "    <tr>\n",
       "      <th>2</th>\n",
       "      <td>0</td>\n",
       "      <td>0</td>\n",
       "    </tr>\n",
       "    <tr>\n",
       "      <th>3</th>\n",
       "      <td>0</td>\n",
       "      <td>0</td>\n",
       "    </tr>\n",
       "    <tr>\n",
       "      <th>4</th>\n",
       "      <td>0</td>\n",
       "      <td>0</td>\n",
       "    </tr>\n",
       "    <tr>\n",
       "      <th>...</th>\n",
       "      <td>...</td>\n",
       "      <td>...</td>\n",
       "    </tr>\n",
       "    <tr>\n",
       "      <th>145</th>\n",
       "      <td>0</td>\n",
       "      <td>2</td>\n",
       "    </tr>\n",
       "    <tr>\n",
       "      <th>146</th>\n",
       "      <td>0</td>\n",
       "      <td>2</td>\n",
       "    </tr>\n",
       "    <tr>\n",
       "      <th>147</th>\n",
       "      <td>0</td>\n",
       "      <td>2</td>\n",
       "    </tr>\n",
       "    <tr>\n",
       "      <th>148</th>\n",
       "      <td>0</td>\n",
       "      <td>2</td>\n",
       "    </tr>\n",
       "    <tr>\n",
       "      <th>149</th>\n",
       "      <td>0</td>\n",
       "      <td>2</td>\n",
       "    </tr>\n",
       "  </tbody>\n",
       "</table>\n",
       "<p>150 rows × 2 columns</p>\n",
       "</div>"
      ]
     },
     "execution_count": 29,
     "metadata": {},
     "output_type": "execute_result"
    }
   ],
   "execution_count": 29
  },
  {
   "metadata": {},
   "cell_type": "code",
   "outputs": [],
   "execution_count": null,
   "source": "`",
   "id": "b401ef9cea1121f5"
  }
 ],
 "metadata": {
  "kernelspec": {
   "display_name": "Python 3",
   "language": "python",
   "name": "python3"
  },
  "language_info": {
   "codemirror_mode": {
    "name": "ipython",
    "version": 2
   },
   "file_extension": ".py",
   "mimetype": "text/x-python",
   "name": "python",
   "nbconvert_exporter": "python",
   "pygments_lexer": "ipython2",
   "version": "2.7.6"
  }
 },
 "nbformat": 4,
 "nbformat_minor": 5
}
