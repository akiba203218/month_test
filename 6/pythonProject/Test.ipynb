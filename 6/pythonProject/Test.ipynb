{
 "cells": [
  {
   "cell_type": "code",
   "id": "initial_id",
   "metadata": {
    "collapsed": true,
    "ExecuteTime": {
     "end_time": "2024-06-06T06:25:55.427867Z",
     "start_time": "2024-06-06T06:25:55.274223Z"
    }
   },
   "source": [
    "import pandas as pd\n",
    "\n",
    "df = pd.read_excel('data/信用评分卡模型.xlsx')\n",
    "\n",
    "df.head(5)"
   ],
   "outputs": [
    {
     "data": {
      "text/plain": [
       "    月收入  年龄  性别  历史授信额度  历史违约次数  信用评分\n",
       "0  7783  29   0   32274       3    73\n",
       "1  7836  40   1    6681       4    72\n",
       "2  6398  25   0   26038       2    74\n",
       "3  6483  23   1   24584       4    65\n",
       "4  5167  23   1    6710       3    73"
      ],
      "text/html": [
       "<div>\n",
       "<style scoped>\n",
       "    .dataframe tbody tr th:only-of-type {\n",
       "        vertical-align: middle;\n",
       "    }\n",
       "\n",
       "    .dataframe tbody tr th {\n",
       "        vertical-align: top;\n",
       "    }\n",
       "\n",
       "    .dataframe thead th {\n",
       "        text-align: right;\n",
       "    }\n",
       "</style>\n",
       "<table border=\"1\" class=\"dataframe\">\n",
       "  <thead>\n",
       "    <tr style=\"text-align: right;\">\n",
       "      <th></th>\n",
       "      <th>月收入</th>\n",
       "      <th>年龄</th>\n",
       "      <th>性别</th>\n",
       "      <th>历史授信额度</th>\n",
       "      <th>历史违约次数</th>\n",
       "      <th>信用评分</th>\n",
       "    </tr>\n",
       "  </thead>\n",
       "  <tbody>\n",
       "    <tr>\n",
       "      <th>0</th>\n",
       "      <td>7783</td>\n",
       "      <td>29</td>\n",
       "      <td>0</td>\n",
       "      <td>32274</td>\n",
       "      <td>3</td>\n",
       "      <td>73</td>\n",
       "    </tr>\n",
       "    <tr>\n",
       "      <th>1</th>\n",
       "      <td>7836</td>\n",
       "      <td>40</td>\n",
       "      <td>1</td>\n",
       "      <td>6681</td>\n",
       "      <td>4</td>\n",
       "      <td>72</td>\n",
       "    </tr>\n",
       "    <tr>\n",
       "      <th>2</th>\n",
       "      <td>6398</td>\n",
       "      <td>25</td>\n",
       "      <td>0</td>\n",
       "      <td>26038</td>\n",
       "      <td>2</td>\n",
       "      <td>74</td>\n",
       "    </tr>\n",
       "    <tr>\n",
       "      <th>3</th>\n",
       "      <td>6483</td>\n",
       "      <td>23</td>\n",
       "      <td>1</td>\n",
       "      <td>24584</td>\n",
       "      <td>4</td>\n",
       "      <td>65</td>\n",
       "    </tr>\n",
       "    <tr>\n",
       "      <th>4</th>\n",
       "      <td>5167</td>\n",
       "      <td>23</td>\n",
       "      <td>1</td>\n",
       "      <td>6710</td>\n",
       "      <td>3</td>\n",
       "      <td>73</td>\n",
       "    </tr>\n",
       "  </tbody>\n",
       "</table>\n",
       "</div>"
      ]
     },
     "execution_count": 20,
     "metadata": {},
     "output_type": "execute_result"
    }
   ],
   "execution_count": 20
  },
  {
   "metadata": {
    "ExecuteTime": {
     "end_time": "2024-06-06T06:25:55.535092Z",
     "start_time": "2024-06-06T06:25:55.525151Z"
    }
   },
   "cell_type": "code",
   "source": "df.info()",
   "id": "dbccc4f9c7137532",
   "outputs": [
    {
     "name": "stdout",
     "output_type": "stream",
     "text": [
      "<class 'pandas.core.frame.DataFrame'>\n",
      "RangeIndex: 1000 entries, 0 to 999\n",
      "Data columns (total 6 columns):\n",
      " #   Column  Non-Null Count  Dtype\n",
      "---  ------  --------------  -----\n",
      " 0   月收入     1000 non-null   int64\n",
      " 1   年龄      1000 non-null   int64\n",
      " 2   性别      1000 non-null   int64\n",
      " 3   历史授信额度  1000 non-null   int64\n",
      " 4   历史违约次数  1000 non-null   int64\n",
      " 5   信用评分    1000 non-null   int64\n",
      "dtypes: int64(6)\n",
      "memory usage: 47.0 KB\n"
     ]
    }
   ],
   "execution_count": 21
  },
  {
   "metadata": {
    "ExecuteTime": {
     "end_time": "2024-06-06T06:25:55.732498Z",
     "start_time": "2024-06-06T06:25:55.713909Z"
    }
   },
   "cell_type": "code",
   "source": "df.describe()",
   "id": "7bf9bdc01df5a349",
   "outputs": [
    {
     "data": {
      "text/plain": [
       "                月收入           年龄           性别        历史授信额度       历史违约次数  \\\n",
       "count   1000.000000  1000.000000  1000.000000   1000.000000  1000.000000   \n",
       "mean   10182.061000    39.075000     0.507000  48783.005000     2.012000   \n",
       "std     2719.251125     9.610085     0.500201  27133.636467     1.554436   \n",
       "min     5007.000000    20.000000     0.000000   5073.000000     0.000000   \n",
       "25%     8160.250000    32.000000     0.000000  26907.750000     1.000000   \n",
       "50%    10038.000000    39.000000     1.000000  42948.000000     2.000000   \n",
       "75%    12498.250000    47.000000     1.000000  72386.500000     3.000000   \n",
       "max    14999.000000    55.000000     1.000000  99991.000000     5.000000   \n",
       "\n",
       "              信用评分  \n",
       "count  1000.000000  \n",
       "mean     79.558000  \n",
       "std       7.749754  \n",
       "min      60.000000  \n",
       "25%      74.000000  \n",
       "50%      81.000000  \n",
       "75%      86.000000  \n",
       "max      90.000000  "
      ],
      "text/html": [
       "<div>\n",
       "<style scoped>\n",
       "    .dataframe tbody tr th:only-of-type {\n",
       "        vertical-align: middle;\n",
       "    }\n",
       "\n",
       "    .dataframe tbody tr th {\n",
       "        vertical-align: top;\n",
       "    }\n",
       "\n",
       "    .dataframe thead th {\n",
       "        text-align: right;\n",
       "    }\n",
       "</style>\n",
       "<table border=\"1\" class=\"dataframe\">\n",
       "  <thead>\n",
       "    <tr style=\"text-align: right;\">\n",
       "      <th></th>\n",
       "      <th>月收入</th>\n",
       "      <th>年龄</th>\n",
       "      <th>性别</th>\n",
       "      <th>历史授信额度</th>\n",
       "      <th>历史违约次数</th>\n",
       "      <th>信用评分</th>\n",
       "    </tr>\n",
       "  </thead>\n",
       "  <tbody>\n",
       "    <tr>\n",
       "      <th>count</th>\n",
       "      <td>1000.000000</td>\n",
       "      <td>1000.000000</td>\n",
       "      <td>1000.000000</td>\n",
       "      <td>1000.000000</td>\n",
       "      <td>1000.000000</td>\n",
       "      <td>1000.000000</td>\n",
       "    </tr>\n",
       "    <tr>\n",
       "      <th>mean</th>\n",
       "      <td>10182.061000</td>\n",
       "      <td>39.075000</td>\n",
       "      <td>0.507000</td>\n",
       "      <td>48783.005000</td>\n",
       "      <td>2.012000</td>\n",
       "      <td>79.558000</td>\n",
       "    </tr>\n",
       "    <tr>\n",
       "      <th>std</th>\n",
       "      <td>2719.251125</td>\n",
       "      <td>9.610085</td>\n",
       "      <td>0.500201</td>\n",
       "      <td>27133.636467</td>\n",
       "      <td>1.554436</td>\n",
       "      <td>7.749754</td>\n",
       "    </tr>\n",
       "    <tr>\n",
       "      <th>min</th>\n",
       "      <td>5007.000000</td>\n",
       "      <td>20.000000</td>\n",
       "      <td>0.000000</td>\n",
       "      <td>5073.000000</td>\n",
       "      <td>0.000000</td>\n",
       "      <td>60.000000</td>\n",
       "    </tr>\n",
       "    <tr>\n",
       "      <th>25%</th>\n",
       "      <td>8160.250000</td>\n",
       "      <td>32.000000</td>\n",
       "      <td>0.000000</td>\n",
       "      <td>26907.750000</td>\n",
       "      <td>1.000000</td>\n",
       "      <td>74.000000</td>\n",
       "    </tr>\n",
       "    <tr>\n",
       "      <th>50%</th>\n",
       "      <td>10038.000000</td>\n",
       "      <td>39.000000</td>\n",
       "      <td>1.000000</td>\n",
       "      <td>42948.000000</td>\n",
       "      <td>2.000000</td>\n",
       "      <td>81.000000</td>\n",
       "    </tr>\n",
       "    <tr>\n",
       "      <th>75%</th>\n",
       "      <td>12498.250000</td>\n",
       "      <td>47.000000</td>\n",
       "      <td>1.000000</td>\n",
       "      <td>72386.500000</td>\n",
       "      <td>3.000000</td>\n",
       "      <td>86.000000</td>\n",
       "    </tr>\n",
       "    <tr>\n",
       "      <th>max</th>\n",
       "      <td>14999.000000</td>\n",
       "      <td>55.000000</td>\n",
       "      <td>1.000000</td>\n",
       "      <td>99991.000000</td>\n",
       "      <td>5.000000</td>\n",
       "      <td>90.000000</td>\n",
       "    </tr>\n",
       "  </tbody>\n",
       "</table>\n",
       "</div>"
      ]
     },
     "execution_count": 22,
     "metadata": {},
     "output_type": "execute_result"
    }
   ],
   "execution_count": 22
  },
  {
   "metadata": {
    "ExecuteTime": {
     "end_time": "2024-06-06T06:25:55.979593Z",
     "start_time": "2024-06-06T06:25:55.972666Z"
    }
   },
   "cell_type": "code",
   "source": "df.shape",
   "id": "c0ee75526f1117fd",
   "outputs": [
    {
     "data": {
      "text/plain": [
       "(1000, 6)"
      ]
     },
     "execution_count": 23,
     "metadata": {},
     "output_type": "execute_result"
    }
   ],
   "execution_count": 23
  },
  {
   "metadata": {
    "ExecuteTime": {
     "end_time": "2024-06-06T06:25:56.887399Z",
     "start_time": "2024-06-06T06:25:56.877247Z"
    }
   },
   "cell_type": "code",
   "source": [
    "df.isnull().sum()\n",
    "\n",
    "df.dropna()"
   ],
   "id": "83ec6bfb06f0ff4c",
   "outputs": [
    {
     "data": {
      "text/plain": [
       "       月收入  年龄  性别  历史授信额度  历史违约次数  信用评分\n",
       "0     7783  29   0   32274       3    73\n",
       "1     7836  40   1    6681       4    72\n",
       "2     6398  25   0   26038       2    74\n",
       "3     6483  23   1   24584       4    65\n",
       "4     5167  23   1    6710       3    73\n",
       "..     ...  ..  ..     ...     ...   ...\n",
       "995  12873  52   1   58190       2    87\n",
       "996  11478  36   0   95688       1    81\n",
       "997  14105  45   1   76221       2    89\n",
       "998  11914  37   1   39906       2    83\n",
       "999  14467  45   0   84052       2    83\n",
       "\n",
       "[1000 rows x 6 columns]"
      ],
      "text/html": [
       "<div>\n",
       "<style scoped>\n",
       "    .dataframe tbody tr th:only-of-type {\n",
       "        vertical-align: middle;\n",
       "    }\n",
       "\n",
       "    .dataframe tbody tr th {\n",
       "        vertical-align: top;\n",
       "    }\n",
       "\n",
       "    .dataframe thead th {\n",
       "        text-align: right;\n",
       "    }\n",
       "</style>\n",
       "<table border=\"1\" class=\"dataframe\">\n",
       "  <thead>\n",
       "    <tr style=\"text-align: right;\">\n",
       "      <th></th>\n",
       "      <th>月收入</th>\n",
       "      <th>年龄</th>\n",
       "      <th>性别</th>\n",
       "      <th>历史授信额度</th>\n",
       "      <th>历史违约次数</th>\n",
       "      <th>信用评分</th>\n",
       "    </tr>\n",
       "  </thead>\n",
       "  <tbody>\n",
       "    <tr>\n",
       "      <th>0</th>\n",
       "      <td>7783</td>\n",
       "      <td>29</td>\n",
       "      <td>0</td>\n",
       "      <td>32274</td>\n",
       "      <td>3</td>\n",
       "      <td>73</td>\n",
       "    </tr>\n",
       "    <tr>\n",
       "      <th>1</th>\n",
       "      <td>7836</td>\n",
       "      <td>40</td>\n",
       "      <td>1</td>\n",
       "      <td>6681</td>\n",
       "      <td>4</td>\n",
       "      <td>72</td>\n",
       "    </tr>\n",
       "    <tr>\n",
       "      <th>2</th>\n",
       "      <td>6398</td>\n",
       "      <td>25</td>\n",
       "      <td>0</td>\n",
       "      <td>26038</td>\n",
       "      <td>2</td>\n",
       "      <td>74</td>\n",
       "    </tr>\n",
       "    <tr>\n",
       "      <th>3</th>\n",
       "      <td>6483</td>\n",
       "      <td>23</td>\n",
       "      <td>1</td>\n",
       "      <td>24584</td>\n",
       "      <td>4</td>\n",
       "      <td>65</td>\n",
       "    </tr>\n",
       "    <tr>\n",
       "      <th>4</th>\n",
       "      <td>5167</td>\n",
       "      <td>23</td>\n",
       "      <td>1</td>\n",
       "      <td>6710</td>\n",
       "      <td>3</td>\n",
       "      <td>73</td>\n",
       "    </tr>\n",
       "    <tr>\n",
       "      <th>...</th>\n",
       "      <td>...</td>\n",
       "      <td>...</td>\n",
       "      <td>...</td>\n",
       "      <td>...</td>\n",
       "      <td>...</td>\n",
       "      <td>...</td>\n",
       "    </tr>\n",
       "    <tr>\n",
       "      <th>995</th>\n",
       "      <td>12873</td>\n",
       "      <td>52</td>\n",
       "      <td>1</td>\n",
       "      <td>58190</td>\n",
       "      <td>2</td>\n",
       "      <td>87</td>\n",
       "    </tr>\n",
       "    <tr>\n",
       "      <th>996</th>\n",
       "      <td>11478</td>\n",
       "      <td>36</td>\n",
       "      <td>0</td>\n",
       "      <td>95688</td>\n",
       "      <td>1</td>\n",
       "      <td>81</td>\n",
       "    </tr>\n",
       "    <tr>\n",
       "      <th>997</th>\n",
       "      <td>14105</td>\n",
       "      <td>45</td>\n",
       "      <td>1</td>\n",
       "      <td>76221</td>\n",
       "      <td>2</td>\n",
       "      <td>89</td>\n",
       "    </tr>\n",
       "    <tr>\n",
       "      <th>998</th>\n",
       "      <td>11914</td>\n",
       "      <td>37</td>\n",
       "      <td>1</td>\n",
       "      <td>39906</td>\n",
       "      <td>2</td>\n",
       "      <td>83</td>\n",
       "    </tr>\n",
       "    <tr>\n",
       "      <th>999</th>\n",
       "      <td>14467</td>\n",
       "      <td>45</td>\n",
       "      <td>0</td>\n",
       "      <td>84052</td>\n",
       "      <td>2</td>\n",
       "      <td>83</td>\n",
       "    </tr>\n",
       "  </tbody>\n",
       "</table>\n",
       "<p>1000 rows × 6 columns</p>\n",
       "</div>"
      ]
     },
     "execution_count": 24,
     "metadata": {},
     "output_type": "execute_result"
    }
   ],
   "execution_count": 24
  },
  {
   "metadata": {
    "ExecuteTime": {
     "end_time": "2024-06-06T06:25:59.834400Z",
     "start_time": "2024-06-06T06:25:59.824359Z"
    }
   },
   "cell_type": "code",
   "source": "df.drop_duplicates()",
   "id": "2128de78e1d4ce3",
   "outputs": [
    {
     "data": {
      "text/plain": [
       "       月收入  年龄  性别  历史授信额度  历史违约次数  信用评分\n",
       "0     7783  29   0   32274       3    73\n",
       "1     7836  40   1    6681       4    72\n",
       "2     6398  25   0   26038       2    74\n",
       "3     6483  23   1   24584       4    65\n",
       "4     5167  23   1    6710       3    73\n",
       "..     ...  ..  ..     ...     ...   ...\n",
       "995  12873  52   1   58190       2    87\n",
       "996  11478  36   0   95688       1    81\n",
       "997  14105  45   1   76221       2    89\n",
       "998  11914  37   1   39906       2    83\n",
       "999  14467  45   0   84052       2    83\n",
       "\n",
       "[1000 rows x 6 columns]"
      ],
      "text/html": [
       "<div>\n",
       "<style scoped>\n",
       "    .dataframe tbody tr th:only-of-type {\n",
       "        vertical-align: middle;\n",
       "    }\n",
       "\n",
       "    .dataframe tbody tr th {\n",
       "        vertical-align: top;\n",
       "    }\n",
       "\n",
       "    .dataframe thead th {\n",
       "        text-align: right;\n",
       "    }\n",
       "</style>\n",
       "<table border=\"1\" class=\"dataframe\">\n",
       "  <thead>\n",
       "    <tr style=\"text-align: right;\">\n",
       "      <th></th>\n",
       "      <th>月收入</th>\n",
       "      <th>年龄</th>\n",
       "      <th>性别</th>\n",
       "      <th>历史授信额度</th>\n",
       "      <th>历史违约次数</th>\n",
       "      <th>信用评分</th>\n",
       "    </tr>\n",
       "  </thead>\n",
       "  <tbody>\n",
       "    <tr>\n",
       "      <th>0</th>\n",
       "      <td>7783</td>\n",
       "      <td>29</td>\n",
       "      <td>0</td>\n",
       "      <td>32274</td>\n",
       "      <td>3</td>\n",
       "      <td>73</td>\n",
       "    </tr>\n",
       "    <tr>\n",
       "      <th>1</th>\n",
       "      <td>7836</td>\n",
       "      <td>40</td>\n",
       "      <td>1</td>\n",
       "      <td>6681</td>\n",
       "      <td>4</td>\n",
       "      <td>72</td>\n",
       "    </tr>\n",
       "    <tr>\n",
       "      <th>2</th>\n",
       "      <td>6398</td>\n",
       "      <td>25</td>\n",
       "      <td>0</td>\n",
       "      <td>26038</td>\n",
       "      <td>2</td>\n",
       "      <td>74</td>\n",
       "    </tr>\n",
       "    <tr>\n",
       "      <th>3</th>\n",
       "      <td>6483</td>\n",
       "      <td>23</td>\n",
       "      <td>1</td>\n",
       "      <td>24584</td>\n",
       "      <td>4</td>\n",
       "      <td>65</td>\n",
       "    </tr>\n",
       "    <tr>\n",
       "      <th>4</th>\n",
       "      <td>5167</td>\n",
       "      <td>23</td>\n",
       "      <td>1</td>\n",
       "      <td>6710</td>\n",
       "      <td>3</td>\n",
       "      <td>73</td>\n",
       "    </tr>\n",
       "    <tr>\n",
       "      <th>...</th>\n",
       "      <td>...</td>\n",
       "      <td>...</td>\n",
       "      <td>...</td>\n",
       "      <td>...</td>\n",
       "      <td>...</td>\n",
       "      <td>...</td>\n",
       "    </tr>\n",
       "    <tr>\n",
       "      <th>995</th>\n",
       "      <td>12873</td>\n",
       "      <td>52</td>\n",
       "      <td>1</td>\n",
       "      <td>58190</td>\n",
       "      <td>2</td>\n",
       "      <td>87</td>\n",
       "    </tr>\n",
       "    <tr>\n",
       "      <th>996</th>\n",
       "      <td>11478</td>\n",
       "      <td>36</td>\n",
       "      <td>0</td>\n",
       "      <td>95688</td>\n",
       "      <td>1</td>\n",
       "      <td>81</td>\n",
       "    </tr>\n",
       "    <tr>\n",
       "      <th>997</th>\n",
       "      <td>14105</td>\n",
       "      <td>45</td>\n",
       "      <td>1</td>\n",
       "      <td>76221</td>\n",
       "      <td>2</td>\n",
       "      <td>89</td>\n",
       "    </tr>\n",
       "    <tr>\n",
       "      <th>998</th>\n",
       "      <td>11914</td>\n",
       "      <td>37</td>\n",
       "      <td>1</td>\n",
       "      <td>39906</td>\n",
       "      <td>2</td>\n",
       "      <td>83</td>\n",
       "    </tr>\n",
       "    <tr>\n",
       "      <th>999</th>\n",
       "      <td>14467</td>\n",
       "      <td>45</td>\n",
       "      <td>0</td>\n",
       "      <td>84052</td>\n",
       "      <td>2</td>\n",
       "      <td>83</td>\n",
       "    </tr>\n",
       "  </tbody>\n",
       "</table>\n",
       "<p>1000 rows × 6 columns</p>\n",
       "</div>"
      ]
     },
     "execution_count": 25,
     "metadata": {},
     "output_type": "execute_result"
    }
   ],
   "execution_count": 25
  },
  {
   "metadata": {
    "ExecuteTime": {
     "end_time": "2024-06-06T06:26:03.033941Z",
     "start_time": "2024-06-06T06:26:03.030127Z"
    }
   },
   "cell_type": "code",
   "source": [
    "X = df.drop('信用评分', axis=1)\n",
    "\n",
    "y = df['信用评分']\n",
    "\n"
   ],
   "id": "32ef16083ef1c582",
   "outputs": [],
   "execution_count": 26
  },
  {
   "metadata": {
    "ExecuteTime": {
     "end_time": "2024-06-06T06:26:03.698264Z",
     "start_time": "2024-06-06T06:26:03.693255Z"
    }
   },
   "cell_type": "code",
   "source": [
    "from sklearn.model_selection import train_test_split\n",
    "\n",
    "X_train, X_test, y_train, y_test = train_test_split(X, y, test_size=0.33, random_state=42)"
   ],
   "id": "b90201fe19ac165b",
   "outputs": [],
   "execution_count": 27
  },
  {
   "metadata": {
    "ExecuteTime": {
     "end_time": "2024-06-06T06:26:04.515303Z",
     "start_time": "2024-06-06T06:26:04.309159Z"
    }
   },
   "cell_type": "code",
   "source": [
    "from sklearn.tree import DecisionTreeRegressor\n",
    "from sklearn.linear_model import LinearRegression\n",
    "\n",
    "lr = LinearRegression(fit_intercept=True, copy_X=True, n_jobs=None).fit(X_train, y_train)\n",
    "\n",
    "lr_y_pred = lr.predict(X_test)\n",
    "\n",
    "df = DecisionTreeRegressor(random_state=0, max_depth=5, min_samples_split=2).fit(X_train, y_train)\n",
    "\n",
    "df_y_pred = df.predict(X_test)"
   ],
   "id": "ec8020c91ced1252",
   "outputs": [],
   "execution_count": 28
  },
  {
   "metadata": {
    "ExecuteTime": {
     "end_time": "2024-06-06T06:30:16.692108Z",
     "start_time": "2024-06-06T06:30:16.367489Z"
    }
   },
   "cell_type": "code",
   "source": [
    "\n",
    "from sklearn.model_selection import GridSearchCV\n",
    "\n",
    "lr_param_grid = {'fit_intercept': [True, False], 'copy_X': [True, False]}\n",
    "\n",
    "df_param_grid = {'max_depth': [3, 5, 7, 9], 'min_samples_split': [2, 3, 4]}\n",
    "\n",
    "lr_cv = GridSearchCV(estimator=lr, param_grid=lr_param_grid, cv=5)\n",
    "\n",
    "df_cv = GridSearchCV(estimator=df, param_grid=df_param_grid, cv=5)\n",
    "\n",
    "lr_cv.fit(X_train, y_train)\n",
    "\n",
    "df_cv.fit(X_train, y_train)\n",
    "\n",
    "lr_best_model = lr_cv.best_estimator_\n",
    "\n",
    "df_best_model = df_cv.best_estimator_\n",
    "\n",
    "best_lr_y_pred = lr_best_model.predict(X_test)\n",
    "\n",
    "best_df_y_pred = df_best_model.predict(X_test)\n",
    "\n"
   ],
   "id": "abd8f91e76729945",
   "outputs": [],
   "execution_count": 37
  },
  {
   "metadata": {
    "ExecuteTime": {
     "end_time": "2024-06-06T06:30:18.735796Z",
     "start_time": "2024-06-06T06:30:18.729317Z"
    }
   },
   "cell_type": "code",
   "source": [
    "from sklearn.metrics import mean_squared_error, r2_score\n",
    "\n",
    "mse1 = mean_squared_error(y_test, best_lr_y_pred)\n",
    "\n",
    "mse2 = mean_squared_error(y_test, best_df_y_pred)\n",
    "\n",
    "r2_1 = r2_score(y_test, best_lr_y_pred)\n",
    "\n",
    "r2_2 = r2_score(y_test, best_df_y_pred)\n",
    "\n",
    "print(mse1, mse2, r2_1, r2_2)"
   ],
   "id": "677367d86e4b58b2",
   "outputs": [
    {
     "name": "stdout",
     "output_type": "stream",
     "text": [
      "24.375079102050755 22.11553652789338 0.6289381664919083 0.6633351835003942\n"
     ]
    }
   ],
   "execution_count": 38
  },
  {
   "metadata": {
    "ExecuteTime": {
     "end_time": "2024-06-06T06:31:40.691056Z",
     "start_time": "2024-06-06T06:31:40.685434Z"
    }
   },
   "cell_type": "code",
   "source": "lr_best_model.coef_",
   "id": "5b7bf47907a7e457",
   "outputs": [
    {
     "data": {
      "text/plain": [
       "array([ 4.21861078e-04,  1.66227135e-01,  2.57689051e-01,  7.37675240e-05,\n",
       "       -1.47956252e+00])"
      ]
     },
     "execution_count": 44,
     "metadata": {},
     "output_type": "execute_result"
    }
   ],
   "execution_count": 44
  },
  {
   "metadata": {
    "ExecuteTime": {
     "end_time": "2024-06-06T06:32:08.286955Z",
     "start_time": "2024-06-06T06:32:08.279928Z"
    }
   },
   "cell_type": "code",
   "source": "df_best_model.feature_importances_",
   "id": "5945aedb42c98d80",
   "outputs": [
    {
     "data": {
      "text/plain": [
       "array([0.0020068 , 0.20155199, 0.        , 0.75258667, 0.04385454])"
      ]
     },
     "execution_count": 45,
     "metadata": {},
     "output_type": "execute_result"
    }
   ],
   "execution_count": 45
  },
  {
   "metadata": {
    "ExecuteTime": {
     "end_time": "2024-06-06T06:33:51.716791Z",
     "start_time": "2024-06-06T06:33:51.708108Z"
    }
   },
   "cell_type": "code",
   "source": [
    "from joblib import dump\n",
    "\n",
    "dump(df_best_model, 'dt.joblib')"
   ],
   "id": "6152aea3ee6163c6",
   "outputs": [
    {
     "data": {
      "text/plain": [
       "['dt.joblib']"
      ]
     },
     "execution_count": 47,
     "metadata": {},
     "output_type": "execute_result"
    }
   ],
   "execution_count": 47
  },
  {
   "metadata": {},
   "cell_type": "code",
   "outputs": [],
   "execution_count": null,
   "source": "",
   "id": "f25dad0fc464eac3"
  }
 ],
 "metadata": {
  "kernelspec": {
   "display_name": "Python 3",
   "language": "python",
   "name": "python3"
  },
  "language_info": {
   "codemirror_mode": {
    "name": "ipython",
    "version": 2
   },
   "file_extension": ".py",
   "mimetype": "text/x-python",
   "name": "python",
   "nbconvert_exporter": "python",
   "pygments_lexer": "ipython2",
   "version": "2.7.6"
  }
 },
 "nbformat": 4,
 "nbformat_minor": 5
}
